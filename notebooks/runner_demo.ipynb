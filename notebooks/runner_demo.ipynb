{
 "cells": [
  {
   "cell_type": "markdown",
   "id": "0",
   "metadata": {},
   "source": [
    "# Runner Demo (stream and run_episode)\n",
    "\n",
    "This notebook shows how to use the UI-agnostic runner to stream per-step events and to run a full episode, using the compose layer to build an environment and policy."
   ]
  },
  {
   "cell_type": "code",
   "execution_count": null,
   "id": "1",
   "metadata": {},
   "outputs": [],
   "source": [
    "# Ensure repo 'src' is on sys.path when running from notebooks/\n",
    "import sys\n",
    "import pathlib\n",
    "\n",
    "repo_root = pathlib.Path.cwd()\n",
    "if not (repo_root / \"src\").exists():\n",
    "    repo_root = repo_root.parent\n",
    "sys.path.insert(0, str(repo_root / \"src\"))\n",
    "print(\"Using repo root:\", repo_root)"
   ]
  },
  {
   "cell_type": "code",
   "execution_count": null,
   "id": "2",
   "metadata": {},
   "outputs": [],
   "source": [
    "import numpy as np\n",
    "import matplotlib.pyplot as plt\n",
    "\n",
    "import plume_nav_sim as pns\n",
    "from plume_nav_sim.runner import runner as r\n",
    "from plume_nav_sim.compose import SimulationSpec, PolicySpec, prepare\n",
    "\n",
    "# setup inline notebook plotting\n",
    "%matplotlib inline"
   ]
  },
  {
   "cell_type": "markdown",
   "id": "3",
   "metadata": {},
   "source": [
    "## Build env + policy via compose\n",
    "\n",
    "We use a deterministic temporal-derivative policy for repeatable results."
   ]
  },
  {
   "cell_type": "code",
   "execution_count": null,
   "id": "4",
   "metadata": {},
   "outputs": [],
   "source": [
    "spec = SimulationSpec(\n",
    "    grid_size=(32, 32),\n",
    "    start_location=(4, 28),  # start away from center for clearer gradient climb\n",
    "    max_steps=500,\n",
    "    render=True,\n",
    "    policy=PolicySpec(builtin=\"greedy_td\"),\n",
    "    seed=123,\n",
    ")\n",
    "env, policy = prepare(spec)\n",
    "print(\"env.max_steps:\", getattr(env, \"max_steps\", None))\n",
    "env"
   ]
  },
  {
   "cell_type": "markdown",
   "id": "5",
   "metadata": {},
   "source": [
    "## Stream a few steps and display frames"
   ]
  },
  {
   "cell_type": "code",
   "execution_count": null,
   "id": "6",
   "metadata": {},
   "outputs": [],
   "source": [
    "frames = []\n",
    "events = []\n",
    "for i, ev in enumerate(r.stream(env, policy, seed=spec.seed, render=True)):\n",
    "    events.append(ev)\n",
    "    if isinstance(ev.frame, np.ndarray):\n",
    "        frames.append(ev.frame)\n",
    "    if i >= 9:  # first 10 steps\n",
    "        break\n",
    "len(frames), events[0].t, events[-1].t"
   ]
  },
  {
   "cell_type": "code",
   "execution_count": null,
   "id": "7",
   "metadata": {},
   "outputs": [],
   "source": [
    "# Show the collected frames in a grid\n",
    "cols = 5\n",
    "rows = int(np.ceil(len(frames) / cols))\n",
    "plt.figure(figsize=(cols * 2.5, rows * 2.5))\n",
    "for i, img in enumerate(frames):\n",
    "    ax = plt.subplot(rows, cols, i + 1)\n",
    "    ax.imshow(img)\n",
    "    ax.set_title(f\"step={events[i].t}\")\n",
    "    ax.axis(\"off\")\n",
    "plt.tight_layout()\n",
    "plt.show()"
   ]
  },
  {
   "cell_type": "markdown",
   "id": "8",
   "metadata": {},
   "source": [
    "## Run a full episode with callbacks\n",
    "\n",
    "Use `run_episode` to execute until termination or truncation while collecting summary results."
   ]
  },
  {
   "cell_type": "code",
   "execution_count": null,
   "id": "9",
   "metadata": {},
   "outputs": [],
   "source": [
    "step_rewards = []\n",
    "flags = []\n",
    "\n",
    "\n",
    "def on_step(ev):\n",
    "    step_rewards.append(ev.reward)\n",
    "    flags.append((ev.terminated, ev.truncated))\n",
    "\n",
    "\n",
    "result = r.run_episode(\n",
    "    env,\n",
    "    policy,\n",
    "    max_steps=1000,\n",
    "    seed=spec.seed,\n",
    "    on_step=on_step,\n",
    "    render=True,\n",
    ")\n",
    "result, len(step_rewards), flags[-1] if flags else None"
   ]
  },
  {
   "cell_type": "code",
   "execution_count": null,
   "id": "10",
   "metadata": {},
   "outputs": [],
   "source": [
    "# Full-episode trajectory overlay on final frame (headless-safe)\n",
    "from IPython.display import display\n",
    "\n",
    "positions = []\n",
    "last_frame = None\n",
    "for ev in r.stream(env, policy, seed=spec.seed, render=True):\n",
    "    pos = ev.info.get(\"agent_xy\") if isinstance(ev.info, dict) else None\n",
    "    if pos is not None:\n",
    "        positions.append(tuple(pos))\n",
    "    if isinstance(ev.frame, np.ndarray):\n",
    "        last_frame = ev.frame\n",
    "    if ev.terminated or ev.truncated:\n",
    "        break\n",
    "\n",
    "if last_frame is None:\n",
    "    raise RuntimeError(\n",
    "        \"No frame rendered; ensure render=True and env supports rgb_array\"\n",
    "    )\n",
    "\n",
    "# Plot background image with grid extents to match agent_xy coords\n",
    "grid_w, grid_h = getattr(env, \"grid_size\", (last_frame.shape[1], last_frame.shape[0]))\n",
    "fig = plt.figure(figsize=(6, 6))\n",
    "ax = plt.gca()\n",
    "ax.imshow(last_frame, extent=[0, grid_w, 0, grid_h], origin=\"upper\")\n",
    "if positions:\n",
    "    xs = [p[0] for p in positions]\n",
    "    ys = [p[1] for p in positions]\n",
    "    ax.plot(xs, ys, \"-o\", color=\"yellow\", markersize=2, linewidth=1, alpha=0.9)\n",
    "    ax.scatter([xs[0]], [ys[0]], c=\"lime\", s=30, label=\"start\")\n",
    "    ax.scatter([xs[-1]], [ys[-1]], c=\"red\", s=30, label=\"end\")\n",
    "    ax.legend(loc=\"upper right\")\n",
    "ax.set_title(\"Final frame with agent trajectory\")\n",
    "display(fig)\n",
    "plt.close(fig)"
   ]
  }
 ],
 "metadata": {
  "kernelspec": {
   "display_name": "plume-nav-sim",
   "language": "python",
   "name": "python3"
  },
  "language_info": {
   "codemirror_mode": {
    "name": "ipython",
    "version": 3
   },
   "file_extension": ".py",
   "mimetype": "text/x-python",
   "name": "python",
   "nbconvert_exporter": "python",
   "pygments_lexer": "ipython3",
   "version": "3.10.19"
  }
 },
 "nbformat": 4,
 "nbformat_minor": 5
}
