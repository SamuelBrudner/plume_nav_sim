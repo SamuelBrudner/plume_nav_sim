{
 "cells": [
  {
   "cell_type": "markdown",
   "id": "0",
   "metadata": {},
   "source": [
    "# Runner Demo (stream and run_episode)\n",
    "\n",
    "This notebook shows how to use the UI-agnostic runner to stream per-step events and to run a full episode, using the compose layer to build an environment and policy."
   ]
  },
  {
   "cell_type": "code",
   "execution_count": null,
   "id": "1",
   "metadata": {},
   "outputs": [],
   "source": [
    "# Ensure repo 'src' is on sys.path when running from notebooks/\n",
    "import sys, pathlib\n",
    "\n",
    "repo_root = pathlib.Path.cwd()\n",
    "if not (repo_root / \"src\").exists():\n",
    "    repo_root = repo_root.parent\n",
    "sys.path.insert(0, str(repo_root / \"src\"))\n",
    "print(\"Using repo root:\", repo_root)"
   ]
  },
  {
   "cell_type": "code",
   "execution_count": null,
   "id": "2",
   "metadata": {},
   "outputs": [],
   "source": [
    "import numpy as np\n",
    "import matplotlib.pyplot as plt\n",
    "\n",
    "import plume_nav_sim as pns\n",
    "from plume_nav_sim.runner import runner as r\n",
    "from plume_nav_sim.compose import SimulationSpec, PolicySpec, prepare"
   ]
  },
  {
   "cell_type": "markdown",
   "id": "3",
   "metadata": {},
   "source": [
    "## Build env + policy via compose\n",
    "\n",
    "We use a deterministic temporal-derivative policy for repeatable results."
   ]
  },
  {
   "cell_type": "code",
   "execution_count": null,
   "id": "4",
   "metadata": {},
   "outputs": [],
   "source": [
    "spec = SimulationSpec(\n",
    "    grid_size=(16, 16),\n",
    "    max_steps=100,\n",
    "    render=True,\n",
    "    policy=PolicySpec(builtin=\"deterministic_td\"),\n",
    "    seed=123,\n",
    ")\n",
    "env, policy = prepare(spec)\n",
    "env"
   ]
  },
  {
   "cell_type": "markdown",
   "id": "5",
   "metadata": {},
   "source": [
    "## Stream a few steps and display frames"
   ]
  },
  {
   "cell_type": "code",
   "execution_count": null,
   "id": "6",
   "metadata": {},
   "outputs": [],
   "source": [
    "frames = []\n",
    "events = []\n",
    "for i, ev in enumerate(r.stream(env, policy, seed=spec.seed, render=True)):\n",
    "    events.append(ev)\n",
    "    if isinstance(ev.frame, np.ndarray):\n",
    "        frames.append(ev.frame)\n",
    "    if i >= 9:  # first 10 steps\n",
    "        break\n",
    "len(frames), events[0].t, events[-1].t"
   ]
  },
  {
   "cell_type": "code",
   "execution_count": null,
   "id": "7",
   "metadata": {},
   "outputs": [],
   "source": [
    "# Show the collected frames in a grid\n",
    "cols = 5\n",
    "rows = int(np.ceil(len(frames) / cols))\n",
    "plt.figure(figsize=(cols * 2.5, rows * 2.5))\n",
    "for i, img in enumerate(frames):\n",
    "    ax = plt.subplot(rows, cols, i + 1)\n",
    "    ax.imshow(img)\n",
    "    ax.set_title(f\"step={events[i].t}\")\n",
    "    ax.axis(\"off\")\n",
    "plt.tight_layout()\n",
    "plt.show()"
   ]
  },
  {
   "cell_type": "markdown",
   "id": "8",
   "metadata": {},
   "source": [
    "## Run a full episode with callbacks\n",
    "\n",
    "Use `run_episode` to execute until termination or truncation while collecting summary results."
   ]
  },
  {
   "cell_type": "code",
   "execution_count": null,
   "id": "9",
   "metadata": {},
   "outputs": [],
   "source": [
    "step_rewards = []\n",
    "flags = []\n",
    "\n",
    "\n",
    "def on_step(ev):\n",
    "    step_rewards.append(ev.reward)\n",
    "    flags.append((ev.terminated, ev.truncated))\n",
    "\n",
    "\n",
    "result = r.run_episode(\n",
    "    env,\n",
    "    policy,\n",
    "    max_steps=50,\n",
    "    seed=spec.seed,\n",
    "    on_step=on_step,\n",
    "    render=True,\n",
    ")\n",
    "result, len(step_rewards), flags[-1] if flags else None"
   ]
  }
 ],
 "metadata": {
  "kernelspec": {
   "display_name": "plume-nav-sim",
   "language": "python",
   "name": "python3"
  },
  "language_info": {
   "codemirror_mode": {
    "name": "ipython",
    "version": 3
   },
   "file_extension": ".py",
   "mimetype": "text/x-python",
   "name": "python",
   "nbconvert_exporter": "python",
   "pygments_lexer": "ipython3",
   "version": "3.10.19"
  }
 },
 "nbformat": 4,
 "nbformat_minor": 5
}
